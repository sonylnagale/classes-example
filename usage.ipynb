{
 "cells": [
  {
   "cell_type": "code",
   "execution_count": 1,
   "metadata": {},
   "outputs": [],
   "source": [
    "from Car import Car\n",
    "from Motorcycle import Motorcycle\n",
    "from Truck import Truck\n",
    "from Cycle import Cycle"
   ]
  },
  {
   "cell_type": "code",
   "execution_count": 2,
   "metadata": {},
   "outputs": [
    {
     "name": "stdout",
     "output_type": "stream",
     "text": [
      "Car: Toyota Camry, 4 doors (2022)\n",
      "Motorcycle: Harley-Davidson Iron 883, without sidecar (2021)\n",
      "Truck: Volvo FH16, Max load: 25 tons (2020)\n",
      "Cycle: Trek, Model: Mountain, Wheels: 2 (2022)\n",
      "Honk honk!\n",
      "Meep meep!\n",
      "HOOOOONK!\n",
      "Truck height is 10, and the height limit is 20\n",
      "Ring! Ring!\n"
     ]
    }
   ],
   "source": [
    "car = Car(\"Toyota\", \"Camry\", 2022, 4)\n",
    "motorcycle = Motorcycle(\"Harley-Davidson\", \"Iron 883\", 2021, False)\n",
    "truck = Truck(\"Volvo\", \"FH16\", 2020, 25, 10)\n",
    "cycle = Cycle(\"Trek\", \"Mountain\", 2022, 2)\n",
    "\n",
    "print(car.display_info())\n",
    "print(motorcycle.display_info())\n",
    "print(truck.display_info())\n",
    "print(cycle.display_info())\n",
    "\n",
    "print(car.honk())\n",
    "print(motorcycle.honk())\n",
    "print(truck.honk())\n",
    "print(truck.heightLimit())\n",
    "print(cycle.bell())"
   ]
  }
 ],
 "metadata": {
  "kernelspec": {
   "display_name": "base",
   "language": "python",
   "name": "python3"
  },
  "language_info": {
   "codemirror_mode": {
    "name": "ipython",
    "version": 3
   },
   "file_extension": ".py",
   "mimetype": "text/x-python",
   "name": "python",
   "nbconvert_exporter": "python",
   "pygments_lexer": "ipython3",
   "version": "3.12.4"
  }
 },
 "nbformat": 4,
 "nbformat_minor": 2
}
