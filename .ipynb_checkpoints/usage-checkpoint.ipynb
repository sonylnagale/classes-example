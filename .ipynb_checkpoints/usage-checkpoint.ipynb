{
 "cells": [
  {
   "cell_type": "code",
   "execution_count": 9,
   "metadata": {},
   "outputs": [],
   "source": [
    "from Car import Car\n",
    "from Motorcycle import Motorcycle\n",
    "from Truck import Truck"
   ]
  },
  {
   "cell_type": "code",
   "execution_count": 10,
   "metadata": {},
   "outputs": [
    {
     "name": "stdout",
     "output_type": "stream",
     "text": [
      "Car: Toyota Camry, 4 doors (2022)\n",
      "Motorcycle: Harley-Davidson Iron 883, without sidecar (2021)\n",
      "Truck: Volvo FH16, Max load: 25 tons (2020)\n",
      "Honk honk!\n",
      "Meep meep!\n",
      "HOOOOONK!\n"
     ]
    }
   ],
   "source": [
    "car = Car(\"Toyota\", \"Camry\", 2022, 4)\n",
    "motorcycle = Motorcycle(\"Harley-Davidson\", \"Iron 883\", 2021, False)\n",
    "truck = Truck(\"Volvo\", \"FH16\", 2020, 25)\n",
    "\n",
    "print(car.display_info())\n",
    "print(motorcycle.display_info())\n",
    "print(truck.display_info())\n",
    "\n",
    "print(car.honk())\n",
    "print(motorcycle.honk())\n",
    "print(truck.honk())"
   ]
  }
 ],
 "metadata": {
  "kernelspec": {
   "display_name": "Python 3",
   "language": "python",
   "name": "python3"
  },
  "language_info": {
   "codemirror_mode": {
    "name": "ipython",
    "version": 3
   },
   "file_extension": ".py",
   "mimetype": "text/x-python",
   "name": "python",
   "nbconvert_exporter": "python",
   "pygments_lexer": "ipython3",
   "version": "3.12.5"
  }
 },
 "nbformat": 4,
 "nbformat_minor": 2
}
